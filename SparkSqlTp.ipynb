{
  "nbformat": 4,
  "nbformat_minor": 0,
  "metadata": {
    "colab": {
      "provenance": [],
      "authorship_tag": "ABX9TyNBRWfDw3wBelHhmdx/AAeb",
      "include_colab_link": true
    },
    "kernelspec": {
      "name": "python3",
      "display_name": "Python 3"
    },
    "language_info": {
      "name": "python"
    }
  },
  "cells": [
    {
      "cell_type": "markdown",
      "metadata": {
        "id": "view-in-github",
        "colab_type": "text"
      },
      "source": [
        "<a href=\"https://colab.research.google.com/github/Chaimaa482/Chaimaa482.github.io/blob/main/SparkSqlTp.ipynb\" target=\"_parent\"><img src=\"https://colab.research.google.com/assets/colab-badge.svg\" alt=\"Open In Colab\"/></a>"
      ]
    },
    {
      "cell_type": "markdown",
      "source": [],
      "metadata": {
        "id": "FnafWp-oe-P2"
      }
    },
    {
      "cell_type": "code",
      "execution_count": 1,
      "metadata": {
        "colab": {
          "base_uri": "https://localhost:8080/"
        },
        "id": "fs_Qf51PzfxG",
        "outputId": "eaaf28ea-b4e0-4319-9f2d-6ccf764df9f0"
      },
      "outputs": [
        {
          "output_type": "stream",
          "name": "stdout",
          "text": [
            "Requirement already satisfied: pyspark in /usr/local/lib/python3.10/dist-packages (3.5.3)\n",
            "Requirement already satisfied: py4j==0.10.9.7 in /usr/local/lib/python3.10/dist-packages (from pyspark) (0.10.9.7)\n"
          ]
        }
      ],
      "source": [
        "! pip install pyspark"
      ]
    },
    {
      "cell_type": "markdown",
      "source": [],
      "metadata": {
        "id": "yu4wdk5Le_Oh"
      }
    },
    {
      "cell_type": "code",
      "source": [
        "from pyspark import SparkConf, SparkContext, SQLContext\n",
        "from pyspark.sql.functions import *\n",
        "nomappli = \"essai1\"\n",
        "config = SparkConf().setAppName(nomappli)\n",
        "sc = SparkContext.getOrCreate();\n",
        "sqlContext = SQLContext(sc)"
      ],
      "metadata": {
        "colab": {
          "base_uri": "https://localhost:8080/"
        },
        "id": "NikcN68F2yI_",
        "outputId": "1dc2a660-d225-4808-c554-f07e9ce4abb8"
      },
      "execution_count": 2,
      "outputs": [
        {
          "output_type": "stream",
          "name": "stderr",
          "text": [
            "/usr/local/lib/python3.10/dist-packages/pyspark/sql/context.py:113: FutureWarning: Deprecated in 3.0.0. Use SparkSession.builder.getOrCreate() instead.\n",
            "  warnings.warn(\n"
          ]
        }
      ]
    },
    {
      "cell_type": "markdown",
      "source": [],
      "metadata": {
        "id": "IiJnntv2fAGV"
      }
    },
    {
      "cell_type": "code",
      "source": [
        "fichier = sc.textFile(\"/content/ngram.csv\")"
      ],
      "metadata": {
        "id": "iDbAJ-6S3gil"
      },
      "execution_count": 3,
      "outputs": []
    },
    {
      "cell_type": "markdown",
      "source": [],
      "metadata": {
        "id": "FYwakyCSfAv1"
      }
    },
    {
      "cell_type": "code",
      "source": [
        "tableau = fichier.map(lambda ligne: ligne.split(\"\\t\"))"
      ],
      "metadata": {
        "id": "CAiBpwkT7Mxj"
      },
      "execution_count": 35,
      "outputs": []
    },
    {
      "cell_type": "markdown",
      "source": [],
      "metadata": {
        "id": "oRb3zvY6fBkb"
      }
    },
    {
      "cell_type": "code",
      "source": [
        "from pyspark.sql import Row\n",
        "\n",
        "ngrams = tableau.map(lambda x: Row(ngram=x[0], year=int(x[1]), ngramcount=int(x[2]), pages=int(x[3]), books=int(x[4])))\n",
        "schemaNGrams = sqlContext.createDataFrame(ngrams)"
      ],
      "metadata": {
        "id": "rpZgtnojdLdN"
      },
      "execution_count": 44,
      "outputs": []
    },
    {
      "cell_type": "markdown",
      "source": [],
      "metadata": {
        "id": "THj0ISnxfCDE"
      }
    },
    {
      "cell_type": "code",
      "source": [
        "schemaNGrams.registerTempTable(\"ngrams\")"
      ],
      "metadata": {
        "colab": {
          "base_uri": "https://localhost:8080/"
        },
        "id": "1E3DLmHPZPus",
        "outputId": "d820f867-4d50-4e4b-8b6a-3e49dc6b7962"
      },
      "execution_count": 45,
      "outputs": [
        {
          "output_type": "stream",
          "name": "stderr",
          "text": [
            "/usr/local/lib/python3.10/dist-packages/pyspark/sql/dataframe.py:329: FutureWarning: Deprecated in 2.0, use createOrReplaceTempView instead.\n",
            "  warnings.warn(\"Deprecated in 2.0, use createOrReplaceTempView instead.\", FutureWarning)\n"
          ]
        }
      ]
    },
    {
      "cell_type": "markdown",
      "source": [],
      "metadata": {
        "id": "3iMMt7K5fC7E"
      }
    },
    {
      "cell_type": "code",
      "source": [
        "#SQL :\n",
        "result = sqlContext.sql(\"SELECT ngram FROM ngrams WHERE ngramcount > 5\")"
      ],
      "metadata": {
        "id": "iotpwJmcZXD2"
      },
      "execution_count": 49,
      "outputs": []
    },
    {
      "cell_type": "code",
      "source": [
        "result.show()"
      ],
      "metadata": {
        "colab": {
          "base_uri": "https://localhost:8080/"
        },
        "id": "QW3Xo0zhcdnt",
        "outputId": "55dcd929-801c-4c50-c89b-434adb8c215f"
      },
      "execution_count": 51,
      "outputs": [
        {
          "output_type": "stream",
          "name": "stdout",
          "text": [
            "+--------+\n",
            "|   ngram|\n",
            "+--------+\n",
            "|! $17.95|\n",
            "|! $17.95|\n",
            "|! $17.95|\n",
            "|! $17.95|\n",
            "|! $17.95|\n",
            "|    ! 09|\n",
            "|    ! 09|\n",
            "|    ! 09|\n",
            "|    ! 09|\n",
            "|    ! 09|\n",
            "|    ! 09|\n",
            "|    ! 09|\n",
            "|    ! 09|\n",
            "+--------+\n",
            "\n"
          ]
        }
      ]
    },
    {
      "cell_type": "code",
      "source": [
        "#Les méthodes de l’API SparkSQL :\n",
        "result = schemaNGrams.filter(schemaNGrams['ngramcount'] > 5).select('ngram')\n",
        "result.show()"
      ],
      "metadata": {
        "colab": {
          "base_uri": "https://localhost:8080/"
        },
        "id": "NxnnY-VzeSCH",
        "outputId": "75c6e5bf-e405-4ed1-ddbc-50d777e36fda"
      },
      "execution_count": 52,
      "outputs": [
        {
          "output_type": "stream",
          "name": "stdout",
          "text": [
            "+--------+\n",
            "|   ngram|\n",
            "+--------+\n",
            "|! $17.95|\n",
            "|! $17.95|\n",
            "|! $17.95|\n",
            "|! $17.95|\n",
            "|! $17.95|\n",
            "|    ! 09|\n",
            "|    ! 09|\n",
            "|    ! 09|\n",
            "|    ! 09|\n",
            "|    ! 09|\n",
            "|    ! 09|\n",
            "|    ! 09|\n",
            "|    ! 09|\n",
            "+--------+\n",
            "\n"
          ]
        }
      ]
    },
    {
      "cell_type": "markdown",
      "source": [],
      "metadata": {
        "id": "2dlZ4iEVfEiz"
      }
    },
    {
      "cell_type": "code",
      "source": [
        "#SQL :\n",
        "result = sqlContext.sql(\"SELECT year, COUNT(*) AS cnt FROM ngrams GROUP BY year\")\n",
        "result.show()"
      ],
      "metadata": {
        "colab": {
          "base_uri": "https://localhost:8080/"
        },
        "id": "1Gdf-_nAeZ7s",
        "outputId": "66d3b2fd-7471-4c56-fce1-be1f35919a34"
      },
      "execution_count": 53,
      "outputs": [
        {
          "output_type": "stream",
          "name": "stdout",
          "text": [
            "+----+---+\n",
            "|year|cnt|\n",
            "+----+---+\n",
            "|1806|  1|\n",
            "|1840|  1|\n",
            "|1882|  1|\n",
            "|2007|  2|\n",
            "|1887|  1|\n",
            "|1991|  2|\n",
            "|1858|  1|\n",
            "|1833|  1|\n",
            "|1831|  1|\n",
            "|1987|  2|\n",
            "|1999|  2|\n",
            "|1997|  2|\n",
            "|1884|  1|\n",
            "|1845|  1|\n",
            "|1877|  1|\n",
            "|1829|  1|\n",
            "|1867|  1|\n",
            "|2006|  2|\n",
            "|1876|  1|\n",
            "|1879|  1|\n",
            "+----+---+\n",
            "only showing top 20 rows\n",
            "\n"
          ]
        }
      ]
    },
    {
      "cell_type": "code",
      "source": [
        "#Les méthodes de l’API SparkSQL :\n",
        "result = schemaNGrams.groupBy(\"year\").count()\n",
        "result.show()"
      ],
      "metadata": {
        "colab": {
          "base_uri": "https://localhost:8080/"
        },
        "id": "QoiW9GIPec8o",
        "outputId": "5e8c359a-83bf-47b0-b5ef-32288d391045"
      },
      "execution_count": 54,
      "outputs": [
        {
          "output_type": "stream",
          "name": "stdout",
          "text": [
            "+----+-----+\n",
            "|year|count|\n",
            "+----+-----+\n",
            "|1806|    1|\n",
            "|1840|    1|\n",
            "|1882|    1|\n",
            "|2007|    2|\n",
            "|1887|    1|\n",
            "|1991|    2|\n",
            "|1858|    1|\n",
            "|1833|    1|\n",
            "|1831|    1|\n",
            "|1987|    2|\n",
            "|1999|    2|\n",
            "|1997|    2|\n",
            "|1884|    1|\n",
            "|1845|    1|\n",
            "|1877|    1|\n",
            "|1829|    1|\n",
            "|1867|    1|\n",
            "|2006|    2|\n",
            "|1876|    1|\n",
            "|1879|    1|\n",
            "+----+-----+\n",
            "only showing top 20 rows\n",
            "\n"
          ]
        }
      ]
    },
    {
      "cell_type": "markdown",
      "source": [],
      "metadata": {
        "id": "RJgH4A5ifFZp"
      }
    },
    {
      "cell_type": "code",
      "source": [
        "#SQL :\n",
        "result = sqlContext.sql(\"SELECT ngram, year, MAX(ngramcount) AS maxCount FROM ngrams GROUP BY ngram, year\")\n",
        "result.show()"
      ],
      "metadata": {
        "colab": {
          "base_uri": "https://localhost:8080/"
        },
        "id": "SB2r5Y80egH-",
        "outputId": "2fae5646-2f6a-4ff1-97e4-8e86901b7f50"
      },
      "execution_count": 55,
      "outputs": [
        {
          "output_type": "stream",
          "name": "stdout",
          "text": [
            "+--------+----+--------+\n",
            "|   ngram|year|maxCount|\n",
            "+--------+----+--------+\n",
            "|    ! 09|1880|       2|\n",
            "|! $17.95|2008|       2|\n",
            "|    ! 09|1845|       1|\n",
            "|! $17.95|1995|       1|\n",
            "|! $17.95|2004|      14|\n",
            "|    ! 09|1780|       1|\n",
            "|    ! 09|1833|       1|\n",
            "|! $17.95|2007|       2|\n",
            "|    ! 09|1872|       1|\n",
            "|    ! 09|1861|       1|\n",
            "|    ! 09|1806|       1|\n",
            "|    ! 09|1882|       2|\n",
            "|! $17.95|2001|       5|\n",
            "|    ! 09|1881|       3|\n",
            "|    ! 09|1884|       5|\n",
            "|    ! 09|1823|       1|\n",
            "|    ! 09|1848|       1|\n",
            "|    ! 09|1887|       1|\n",
            "|    ! 09|1803|       1|\n",
            "|    ! 09|1877|       2|\n",
            "+--------+----+--------+\n",
            "only showing top 20 rows\n",
            "\n"
          ]
        }
      ]
    },
    {
      "cell_type": "code",
      "source": [
        "#Les méthodes de l’API SparkSQL :\n",
        "result = schemaNGrams.groupBy(\"ngram\", \"Year\").max(\"ngramcount\")\n",
        "result.show()"
      ],
      "metadata": {
        "colab": {
          "base_uri": "https://localhost:8080/"
        },
        "id": "FyjfbINoeibm",
        "outputId": "8feb4de2-7c36-47e2-9a8e-74db745b5b6e"
      },
      "execution_count": 56,
      "outputs": [
        {
          "output_type": "stream",
          "name": "stdout",
          "text": [
            "+--------+----+---------------+\n",
            "|   ngram|Year|max(ngramcount)|\n",
            "+--------+----+---------------+\n",
            "|    ! 09|1880|              2|\n",
            "|! $17.95|2008|              2|\n",
            "|    ! 09|1845|              1|\n",
            "|! $17.95|1995|              1|\n",
            "|! $17.95|2004|             14|\n",
            "|    ! 09|1780|              1|\n",
            "|    ! 09|1833|              1|\n",
            "|! $17.95|2007|              2|\n",
            "|    ! 09|1872|              1|\n",
            "|    ! 09|1861|              1|\n",
            "|    ! 09|1806|              1|\n",
            "|    ! 09|1882|              2|\n",
            "|! $17.95|2001|              5|\n",
            "|    ! 09|1881|              3|\n",
            "|    ! 09|1884|              5|\n",
            "|    ! 09|1823|              1|\n",
            "|    ! 09|1848|              1|\n",
            "|    ! 09|1887|              1|\n",
            "|    ! 09|1803|              1|\n",
            "|    ! 09|1877|              2|\n",
            "+--------+----+---------------+\n",
            "only showing top 20 rows\n",
            "\n"
          ]
        }
      ]
    },
    {
      "cell_type": "markdown",
      "source": [],
      "metadata": {
        "id": "pri0CwdqfGLK"
      }
    },
    {
      "cell_type": "code",
      "source": [
        "#SQL :\n",
        "result = sqlContext.sql(\"SELECT ngram FROM ngrams GROUP BY ngram HAVING COUNT(DISTINCT Year) = 20\").show()"
      ],
      "metadata": {
        "colab": {
          "base_uri": "https://localhost:8080/"
        },
        "id": "0JauNJKqek2_",
        "outputId": "1f79c15c-a428-453a-f6c0-8c446431c306"
      },
      "execution_count": 57,
      "outputs": [
        {
          "output_type": "stream",
          "name": "stdout",
          "text": [
            "+-----+\n",
            "|ngram|\n",
            "+-----+\n",
            "+-----+\n",
            "\n"
          ]
        }
      ]
    },
    {
      "cell_type": "code",
      "source": [
        "#Les méthodes de l’API SparkSQL :\n",
        "result = schemaNGrams.groupBy(\"ngram\").agg(\n",
        "    countDistinct(\"Year\").alias(\"NumYears\")\n",
        ").filter(\"NumYears = 20\").select(\"ngram\").show()"
      ],
      "metadata": {
        "colab": {
          "base_uri": "https://localhost:8080/"
        },
        "id": "7CeQi4Tgeo5A",
        "outputId": "c3eba2a0-1af6-4218-9a2a-e33cd5a97a83"
      },
      "execution_count": 58,
      "outputs": [
        {
          "output_type": "stream",
          "name": "stdout",
          "text": [
            "+-----+\n",
            "|ngram|\n",
            "+-----+\n",
            "+-----+\n",
            "\n"
          ]
        }
      ]
    },
    {
      "cell_type": "markdown",
      "source": [],
      "metadata": {
        "id": "6HhsuWfsfGwa"
      }
    },
    {
      "cell_type": "code",
      "source": [
        "#SQL :\n",
        "sqlContext.sql(\"SELECT distinct ngram FROM ngrams WHERE ngram LIKE '%!% %' AND ngram LIKE '% %9%'\").show()\n",
        "\n",
        "#Les méthodes de l’API SparkSQL :\n",
        "schemaNGrams.filter((col(\"ngram\").like(\"%!% %\")) & (col(\"ngram\").like(\"% %9%\"))).select(\"ngram\").distinct().show()\n"
      ],
      "metadata": {
        "colab": {
          "base_uri": "https://localhost:8080/"
        },
        "id": "r5YRW_h7erCS",
        "outputId": "d7bd125f-61e1-479b-898a-09de2af9e2dd"
      },
      "execution_count": 59,
      "outputs": [
        {
          "output_type": "stream",
          "name": "stdout",
          "text": [
            "+--------+\n",
            "|   ngram|\n",
            "+--------+\n",
            "|    ! 09|\n",
            "|! $17.95|\n",
            "+--------+\n",
            "\n",
            "+--------+\n",
            "|   ngram|\n",
            "+--------+\n",
            "|    ! 09|\n",
            "|! $17.95|\n",
            "+--------+\n",
            "\n"
          ]
        }
      ]
    },
    {
      "cell_type": "markdown",
      "source": [],
      "metadata": {
        "id": "ZE8C-RDhfHts"
      }
    },
    {
      "cell_type": "code",
      "source": [
        "#SQL :\n",
        "sqlContext.sql(\"SELECT ngram FROM ngrams GROUP BY ngram HAVING COUNT(DISTINCT Year) = (SELECT COUNT(DISTINCT Year) FROM ngrams)\").show()\n",
        "\n",
        "#Les méthodes de l’API SparkSQL :\n",
        "distinct_years = schemaNGrams.select(\"Year\").distinct().count()\n",
        "\n",
        "result = schemaNGrams.groupBy(\"ngram\").agg(countDistinct(\"Year\").alias(\"distinct_years\")) \\\n",
        "    .filter(\"distinct_years = {}\".format(distinct_years)) \\\n",
        "    .select(\"ngram\").show()\n"
      ],
      "metadata": {
        "colab": {
          "base_uri": "https://localhost:8080/"
        },
        "id": "Y6mIWOW8etiG",
        "outputId": "6f9dac18-159c-40b2-c20f-3f2d4e653755"
      },
      "execution_count": 60,
      "outputs": [
        {
          "output_type": "stream",
          "name": "stdout",
          "text": [
            "+-----+\n",
            "|ngram|\n",
            "+-----+\n",
            "| ! 09|\n",
            "+-----+\n",
            "\n",
            "+-----+\n",
            "|ngram|\n",
            "+-----+\n",
            "| ! 09|\n",
            "+-----+\n",
            "\n"
          ]
        }
      ]
    },
    {
      "cell_type": "markdown",
      "source": [],
      "metadata": {
        "id": "JejrZnBNfIWd"
      }
    },
    {
      "cell_type": "code",
      "source": [
        "#SQL :\n",
        "sqlContext.sql(\"SELECT Year, ngram, SUM(Pages) AS TotalPages, SUM(Books) AS TotalBooks FROM ngrams GROUP BY Year, ngram ORDER BY ngram ASC\").show()\n",
        "\n",
        "#Les méthodes de l’API SparkSQL :\n",
        "result = (schemaNGrams\n",
        "    .groupBy(\"Year\", \"ngram\")\n",
        "    .agg(sum(\"Pages\").alias(\"TotalPages\"), sum(\"Books\").alias(\"TotalBooks\"))\n",
        "    .orderBy(\"ngram\")\n",
        ")\n",
        "result.show()"
      ],
      "metadata": {
        "colab": {
          "base_uri": "https://localhost:8080/"
        },
        "id": "Vijm25aBe0vq",
        "outputId": "d74bbf80-f39c-40ce-d226-65356ce4527c"
      },
      "execution_count": 61,
      "outputs": [
        {
          "output_type": "stream",
          "name": "stdout",
          "text": [
            "+----+--------+----------+----------+\n",
            "|Year|   ngram|TotalPages|TotalBooks|\n",
            "+----+--------+----------+----------+\n",
            "|1998|! $17.95|         3|         3|\n",
            "|1992|! $17.95|         5|         5|\n",
            "|1995|! $17.95|         1|         1|\n",
            "|1997|! $17.95|         5|         5|\n",
            "|1993|! $17.95|         2|         2|\n",
            "|1987|! $17.95|         1|         1|\n",
            "|1991|! $17.95|         1|         1|\n",
            "|1990|! $17.95|         1|         1|\n",
            "|2007|! $17.95|         2|         2|\n",
            "|2004|! $17.95|        14|        14|\n",
            "|1996|! $17.95|         2|         2|\n",
            "|2005|! $17.95|        13|        13|\n",
            "|2001|! $17.95|         4|         4|\n",
            "|2003|! $17.95|         2|         2|\n",
            "|1999|! $17.95|        10|        10|\n",
            "|2006|! $17.95|         5|         5|\n",
            "|2008|! $17.95|         2|         2|\n",
            "|2000|! $17.95|         9|         9|\n",
            "|2002|! $17.95|         5|         5|\n",
            "|1840|    ! 09|         1|         1|\n",
            "+----+--------+----------+----------+\n",
            "only showing top 20 rows\n",
            "\n",
            "+----+--------+----------+----------+\n",
            "|Year|   ngram|TotalPages|TotalBooks|\n",
            "+----+--------+----------+----------+\n",
            "|1998|! $17.95|         3|         3|\n",
            "|1992|! $17.95|         5|         5|\n",
            "|1995|! $17.95|         1|         1|\n",
            "|1997|! $17.95|         5|         5|\n",
            "|1993|! $17.95|         2|         2|\n",
            "|1987|! $17.95|         1|         1|\n",
            "|1991|! $17.95|         1|         1|\n",
            "|1990|! $17.95|         1|         1|\n",
            "|2007|! $17.95|         2|         2|\n",
            "|2004|! $17.95|        14|        14|\n",
            "|1996|! $17.95|         2|         2|\n",
            "|2005|! $17.95|        13|        13|\n",
            "|2001|! $17.95|         4|         4|\n",
            "|2003|! $17.95|         2|         2|\n",
            "|1999|! $17.95|        10|        10|\n",
            "|2006|! $17.95|         5|         5|\n",
            "|2008|! $17.95|         2|         2|\n",
            "|2000|! $17.95|         9|         9|\n",
            "|2002|! $17.95|         5|         5|\n",
            "|1840|    ! 09|         1|         1|\n",
            "+----+--------+----------+----------+\n",
            "only showing top 20 rows\n",
            "\n"
          ]
        }
      ]
    },
    {
      "cell_type": "markdown",
      "source": [],
      "metadata": {
        "id": "OFilvPJGfJMH"
      }
    },
    {
      "cell_type": "code",
      "source": [
        "#SQL :\n",
        "result = sqlContext.sql(\"SELECT Year, COUNT(DISTINCT ngram) AS distinct_bigrams FROM ngrams GROUP BY Year ORDER BY Year DESC\")\n",
        "result.show()\n",
        "\n",
        "#Les méthodes de l’API SparkSQL :\n",
        "result = schemaNGrams.groupBy(\"Year\").agg(countDistinct(\"ngram\")) .orderBy(\"Year\", ascending=False)\n",
        "result.show()"
      ],
      "metadata": {
        "colab": {
          "base_uri": "https://localhost:8080/"
        },
        "id": "Ec-OVDpoe283",
        "outputId": "5c7a5683-fe54-49f7-b9f6-b0ab4bc4d7b4"
      },
      "execution_count": 62,
      "outputs": [
        {
          "output_type": "stream",
          "name": "stdout",
          "text": [
            "+----+----------------+\n",
            "|Year|distinct_bigrams|\n",
            "+----+----------------+\n",
            "|2008|               2|\n",
            "|2007|               2|\n",
            "|2006|               2|\n",
            "|2005|               2|\n",
            "|2004|               2|\n",
            "|2003|               2|\n",
            "|2002|               2|\n",
            "|2001|               2|\n",
            "|2000|               2|\n",
            "|1999|               2|\n",
            "|1998|               2|\n",
            "|1997|               2|\n",
            "|1996|               2|\n",
            "|1995|               2|\n",
            "|1993|               2|\n",
            "|1992|               2|\n",
            "|1991|               2|\n",
            "|1990|               2|\n",
            "|1987|               2|\n",
            "|1985|               1|\n",
            "+----+----------------+\n",
            "only showing top 20 rows\n",
            "\n",
            "+----+---------------------+\n",
            "|Year|count(DISTINCT ngram)|\n",
            "+----+---------------------+\n",
            "|2008|                    2|\n",
            "|2007|                    2|\n",
            "|2006|                    2|\n",
            "|2005|                    2|\n",
            "|2004|                    2|\n",
            "|2003|                    2|\n",
            "|2002|                    2|\n",
            "|2001|                    2|\n",
            "|2000|                    2|\n",
            "|1999|                    2|\n",
            "|1998|                    2|\n",
            "|1997|                    2|\n",
            "|1996|                    2|\n",
            "|1995|                    2|\n",
            "|1993|                    2|\n",
            "|1992|                    2|\n",
            "|1991|                    2|\n",
            "|1990|                    2|\n",
            "|1987|                    2|\n",
            "|1985|                    1|\n",
            "+----+---------------------+\n",
            "only showing top 20 rows\n",
            "\n"
          ]
        }
      ]
    }
  ]
}